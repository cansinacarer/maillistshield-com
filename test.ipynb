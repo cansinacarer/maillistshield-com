{
 "cells": [
  {
   "cell_type": "code",
   "execution_count": 1,
   "id": "aeccc31b",
   "metadata": {},
   "outputs": [],
   "source": [
    "import requests\n",
    "import json\n",
    "from requests.auth import HTTPBasicAuth"
   ]
  },
  {
   "cell_type": "code",
   "execution_count": 2,
   "id": "8d010498",
   "metadata": {},
   "outputs": [],
   "source": [
    "def get_all_queues(username='cca', password='2q_0o9nc$XCP_zM', vhost='%2F'):\n",
    "    url = f\"https://rabbitmq.apps.cansin.net/api/queues/{vhost}\"\n",
    "    \n",
    "    try:\n",
    "        response = requests.get(url, auth=HTTPBasicAuth(username, password))\n",
    "        response.raise_for_status()\n",
    "        \n",
    "        queues = response.json()\n",
    "        return queues\n",
    "        \n",
    "    except requests.exceptions.RequestException as e:\n",
    "        print(f\"Error connecting to RabbitMQ Management API: {e}\")\n",
    "        return []"
   ]
  },
  {
   "cell_type": "code",
   "execution_count": 3,
   "id": "16473ad2",
   "metadata": {},
   "outputs": [],
   "source": [
    "def print_queue_info(queues):\n",
    "    \"\"\"Print formatted queue information\"\"\"\n",
    "    if not queues:\n",
    "        print(\"No queues found or connection failed\")\n",
    "        return\n",
    "        \n",
    "    print(f\"Found {len(queues)} queues:\")\n",
    "    print(\"-\" * 60)\n",
    "    \n",
    "    for queue in queues:\n",
    "        name = queue.get('name', 'Unknown')\n",
    "        messages = queue.get('messages', 0)\n",
    "        consumers = queue.get('consumers', 0)\n",
    "        state = queue.get('state', 'Unknown')\n",
    "        \n",
    "        print(f\"Queue: {name}\")\n",
    "        print(f\"  Messages: {messages}\")\n",
    "        print(f\"  Consumers: {consumers}\")\n",
    "        print(f\"  State: {state}\")\n",
    "        print(\"-\" * 30)"
   ]
  },
  {
   "cell_type": "code",
   "execution_count": 4,
   "id": "bb7acc10",
   "metadata": {},
   "outputs": [
    {
     "name": "stdout",
     "output_type": "stream",
     "text": [
      "Found 4 queues:\n",
      "------------------------------------------------------------\n",
      "Queue: queue_from_web\n",
      "  Messages: 2\n",
      "  Consumers: 0\n",
      "  State: running\n",
      "------------------------------\n",
      "Queue: task_queue\n",
      "  Messages: 0\n",
      "  Consumers: 0\n",
      "  State: running\n",
      "------------------------------\n",
      "Queue: task_queue_1\n",
      "  Messages: 0\n",
      "  Consumers: 0\n",
      "  State: running\n",
      "------------------------------\n",
      "Queue: task_queue_2\n",
      "  Messages: 0\n",
      "  Consumers: 0\n",
      "  State: running\n",
      "------------------------------\n",
      "\n",
      "Queue names: ['queue_from_web', 'task_queue', 'task_queue_1', 'task_queue_2']\n"
     ]
    }
   ],
   "source": [
    "# Get all queues\n",
    "queues = get_all_queues()\n",
    "\n",
    "# Print queue information\n",
    "print_queue_info(queues)\n",
    "\n",
    "# Just get queue names\n",
    "queue_names = [q['name'] for q in queues]\n",
    "print(f\"\\nQueue names: {queue_names}\")"
   ]
  },
  {
   "cell_type": "code",
   "execution_count": 6,
   "id": "04dc9c08",
   "metadata": {},
   "outputs": [
    {
     "data": {
      "text/plain": [
       "{'arguments': {},\n",
       " 'auto_delete': False,\n",
       " 'backing_queue_status': {'avg_ack_egress_rate': 0.0,\n",
       "  'avg_ack_ingress_rate': 0.0,\n",
       "  'avg_egress_rate': 0.0,\n",
       "  'avg_ingress_rate': 0.0031143168324505237,\n",
       "  'delta': ['delta', 'undefined', 0, 0, 'undefined'],\n",
       "  'len': 2,\n",
       "  'mode': 'default',\n",
       "  'next_seq_id': 2,\n",
       "  'q1': 0,\n",
       "  'q2': 0,\n",
       "  'q3': 0,\n",
       "  'q4': 2,\n",
       "  'target_ram_count': 'infinity'},\n",
       " 'consumer_utilisation': None,\n",
       " 'consumers': 0,\n",
       " 'durable': True,\n",
       " 'effective_policy_definition': {},\n",
       " 'exclusive': False,\n",
       " 'exclusive_consumer_tag': None,\n",
       " 'garbage_collection': {'fullsweep_after': 65535,\n",
       "  'max_heap_size': 0,\n",
       "  'min_bin_vheap_size': 46422,\n",
       "  'min_heap_size': 233,\n",
       "  'minor_gcs': 10},\n",
       " 'head_message_timestamp': None,\n",
       " 'idle_since': '2025-09-02 18:28:41',\n",
       " 'memory': 15116,\n",
       " 'message_bytes': 502,\n",
       " 'message_bytes_paged_out': 0,\n",
       " 'message_bytes_persistent': 0,\n",
       " 'message_bytes_ram': 502,\n",
       " 'message_bytes_ready': 502,\n",
       " 'message_bytes_unacknowledged': 0,\n",
       " 'message_stats': {'publish': 2, 'publish_details': {'rate': 0.0}},\n",
       " 'messages': 2,\n",
       " 'messages_details': {'rate': 0.0},\n",
       " 'messages_paged_out': 0,\n",
       " 'messages_persistent': 0,\n",
       " 'messages_ram': 2,\n",
       " 'messages_ready': 2,\n",
       " 'messages_ready_details': {'rate': 0.0},\n",
       " 'messages_ready_ram': 2,\n",
       " 'messages_unacknowledged': 0,\n",
       " 'messages_unacknowledged_details': {'rate': 0.0},\n",
       " 'messages_unacknowledged_ram': 0,\n",
       " 'name': 'queue_from_web',\n",
       " 'node': 'rabbit@localhost',\n",
       " 'operator_policy': None,\n",
       " 'policy': None,\n",
       " 'recoverable_slaves': None,\n",
       " 'reductions': 6375,\n",
       " 'reductions_details': {'rate': 0.0},\n",
       " 'state': 'running',\n",
       " 'vhost': '/'}"
      ]
     },
     "execution_count": 6,
     "metadata": {},
     "output_type": "execute_result"
    }
   ],
   "source": [
    "queues[0]"
   ]
  },
  {
   "cell_type": "code",
   "execution_count": null,
   "id": "ad5bb69b",
   "metadata": {},
   "outputs": [],
   "source": [
    "# First install: pip install pyrabbit\n",
    "from pyrabbit.api import Client\n",
    "\n",
    "def get_queues_with_pyrabbit(host, username='guest', password='guest'):\n",
    "    \"\"\"Get queues using pyrabbit library\"\"\"\n",
    "    cl = Client(host, username, password)\n",
    "    \n",
    "    try:\n",
    "        queues = cl.get_queues()\n",
    "        return [q['name'] for q in queues]\n",
    "    except Exception as e:\n",
    "        print(f\"Error: {e}\")\n",
    "        return []"
   ]
  },
  {
   "cell_type": "code",
   "execution_count": null,
   "id": "ceeb3089",
   "metadata": {},
   "outputs": [],
   "source": [
    "# Usage\n",
    "get_queues_with_pyrabbit('rabbitmq.apps.cansin.net', 'cca', '2q_0o9nc$XCP_zM')"
   ]
  }
 ],
 "metadata": {
  "kernelspec": {
   "display_name": "env",
   "language": "python",
   "name": "python3"
  },
  "language_info": {
   "codemirror_mode": {
    "name": "ipython",
    "version": 3
   },
   "file_extension": ".py",
   "mimetype": "text/x-python",
   "name": "python",
   "nbconvert_exporter": "python",
   "pygments_lexer": "ipython3",
   "version": "3.13.5"
  }
 },
 "nbformat": 4,
 "nbformat_minor": 5
}
